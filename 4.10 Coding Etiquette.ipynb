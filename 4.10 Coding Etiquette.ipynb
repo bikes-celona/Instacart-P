{
 "cells": [
  {
   "cell_type": "code",
   "execution_count": 1,
   "metadata": {},
   "outputs": [],
   "source": [
    "#import libraries\n",
    "\n",
    "import pandas as pd\n",
    "import numpy as np\n",
    "import os\n",
    "import matplotlib.pyplot as plt\n",
    "import seaborn as sns\n",
    "import scipy"
   ]
  },
  {
   "cell_type": "code",
   "execution_count": 2,
   "metadata": {},
   "outputs": [],
   "source": [
    "ords_prods_merge = pd.read_pickle(r'/Volumes/My Passport/orders_products_merge_new.pkl')"
   ]
  },
  {
   "cell_type": "code",
   "execution_count": 3,
   "metadata": {},
   "outputs": [],
   "source": [
    "# viewing all columns\n",
    "\n",
    "pd.set_option(\"display.max_columns\",None)"
   ]
  },
  {
   "cell_type": "code",
   "execution_count": 4,
   "metadata": {},
   "outputs": [
    {
     "data": {
      "text/html": [
       "<div>\n",
       "<style scoped>\n",
       "    .dataframe tbody tr th:only-of-type {\n",
       "        vertical-align: middle;\n",
       "    }\n",
       "\n",
       "    .dataframe tbody tr th {\n",
       "        vertical-align: top;\n",
       "    }\n",
       "\n",
       "    .dataframe thead th {\n",
       "        text-align: right;\n",
       "    }\n",
       "</style>\n",
       "<table border=\"1\" class=\"dataframe\">\n",
       "  <thead>\n",
       "    <tr style=\"text-align: right;\">\n",
       "      <th></th>\n",
       "      <th>order_id</th>\n",
       "      <th>user_id</th>\n",
       "      <th>order_number</th>\n",
       "      <th>orders_day_of_week</th>\n",
       "      <th>order_hour_of_day</th>\n",
       "      <th>days_since_prior_order</th>\n",
       "      <th>product_id</th>\n",
       "      <th>add_to_cart_order</th>\n",
       "      <th>reordered</th>\n",
       "      <th>_merge</th>\n",
       "      <th>product_name</th>\n",
       "      <th>aisle_id</th>\n",
       "      <th>department_id</th>\n",
       "      <th>prices</th>\n",
       "      <th>busiest_day</th>\n",
       "      <th>busiest_period_of_day</th>\n",
       "      <th>max_orders</th>\n",
       "      <th>loyalty_flag</th>\n",
       "      <th>mean_order</th>\n",
       "      <th>spender_flag</th>\n",
       "      <th>frequency</th>\n",
       "      <th>order_frequency_flag</th>\n",
       "      <th>first_name</th>\n",
       "      <th>last_name</th>\n",
       "      <th>gender</th>\n",
       "      <th>state</th>\n",
       "      <th>age</th>\n",
       "      <th>date_joined</th>\n",
       "      <th>n_dependants</th>\n",
       "      <th>fam_status</th>\n",
       "      <th>income</th>\n",
       "    </tr>\n",
       "  </thead>\n",
       "  <tbody>\n",
       "    <tr>\n",
       "      <th>0</th>\n",
       "      <td>2539329</td>\n",
       "      <td>1</td>\n",
       "      <td>1</td>\n",
       "      <td>2</td>\n",
       "      <td>8</td>\n",
       "      <td>NaN</td>\n",
       "      <td>196</td>\n",
       "      <td>1</td>\n",
       "      <td>0</td>\n",
       "      <td>both</td>\n",
       "      <td>Soda</td>\n",
       "      <td>77.0</td>\n",
       "      <td>7.0</td>\n",
       "      <td>9.0</td>\n",
       "      <td>Regularly busy</td>\n",
       "      <td>Average orders</td>\n",
       "      <td>10</td>\n",
       "      <td>New customer</td>\n",
       "      <td>6.367797</td>\n",
       "      <td>Low spender</td>\n",
       "      <td>20.5</td>\n",
       "      <td>Non-frequent customer</td>\n",
       "      <td>Linda</td>\n",
       "      <td>Nguyen</td>\n",
       "      <td>Female</td>\n",
       "      <td>Alabama</td>\n",
       "      <td>31</td>\n",
       "      <td>2/17/2019</td>\n",
       "      <td>3</td>\n",
       "      <td>married</td>\n",
       "      <td>40423</td>\n",
       "    </tr>\n",
       "    <tr>\n",
       "      <th>1</th>\n",
       "      <td>2539329</td>\n",
       "      <td>1</td>\n",
       "      <td>1</td>\n",
       "      <td>2</td>\n",
       "      <td>8</td>\n",
       "      <td>NaN</td>\n",
       "      <td>14084</td>\n",
       "      <td>2</td>\n",
       "      <td>0</td>\n",
       "      <td>both</td>\n",
       "      <td>Organic Unsweetened Vanilla Almond Milk</td>\n",
       "      <td>91.0</td>\n",
       "      <td>16.0</td>\n",
       "      <td>12.5</td>\n",
       "      <td>Regularly busy</td>\n",
       "      <td>Average orders</td>\n",
       "      <td>10</td>\n",
       "      <td>New customer</td>\n",
       "      <td>6.367797</td>\n",
       "      <td>Low spender</td>\n",
       "      <td>20.5</td>\n",
       "      <td>Non-frequent customer</td>\n",
       "      <td>Linda</td>\n",
       "      <td>Nguyen</td>\n",
       "      <td>Female</td>\n",
       "      <td>Alabama</td>\n",
       "      <td>31</td>\n",
       "      <td>2/17/2019</td>\n",
       "      <td>3</td>\n",
       "      <td>married</td>\n",
       "      <td>40423</td>\n",
       "    </tr>\n",
       "    <tr>\n",
       "      <th>2</th>\n",
       "      <td>2539329</td>\n",
       "      <td>1</td>\n",
       "      <td>1</td>\n",
       "      <td>2</td>\n",
       "      <td>8</td>\n",
       "      <td>NaN</td>\n",
       "      <td>12427</td>\n",
       "      <td>3</td>\n",
       "      <td>0</td>\n",
       "      <td>both</td>\n",
       "      <td>Original Beef Jerky</td>\n",
       "      <td>23.0</td>\n",
       "      <td>19.0</td>\n",
       "      <td>4.4</td>\n",
       "      <td>Regularly busy</td>\n",
       "      <td>Average orders</td>\n",
       "      <td>10</td>\n",
       "      <td>New customer</td>\n",
       "      <td>6.367797</td>\n",
       "      <td>Low spender</td>\n",
       "      <td>20.5</td>\n",
       "      <td>Non-frequent customer</td>\n",
       "      <td>Linda</td>\n",
       "      <td>Nguyen</td>\n",
       "      <td>Female</td>\n",
       "      <td>Alabama</td>\n",
       "      <td>31</td>\n",
       "      <td>2/17/2019</td>\n",
       "      <td>3</td>\n",
       "      <td>married</td>\n",
       "      <td>40423</td>\n",
       "    </tr>\n",
       "    <tr>\n",
       "      <th>3</th>\n",
       "      <td>2539329</td>\n",
       "      <td>1</td>\n",
       "      <td>1</td>\n",
       "      <td>2</td>\n",
       "      <td>8</td>\n",
       "      <td>NaN</td>\n",
       "      <td>26088</td>\n",
       "      <td>4</td>\n",
       "      <td>0</td>\n",
       "      <td>both</td>\n",
       "      <td>Aged White Cheddar Popcorn</td>\n",
       "      <td>23.0</td>\n",
       "      <td>19.0</td>\n",
       "      <td>4.7</td>\n",
       "      <td>Regularly busy</td>\n",
       "      <td>Average orders</td>\n",
       "      <td>10</td>\n",
       "      <td>New customer</td>\n",
       "      <td>6.367797</td>\n",
       "      <td>Low spender</td>\n",
       "      <td>20.5</td>\n",
       "      <td>Non-frequent customer</td>\n",
       "      <td>Linda</td>\n",
       "      <td>Nguyen</td>\n",
       "      <td>Female</td>\n",
       "      <td>Alabama</td>\n",
       "      <td>31</td>\n",
       "      <td>2/17/2019</td>\n",
       "      <td>3</td>\n",
       "      <td>married</td>\n",
       "      <td>40423</td>\n",
       "    </tr>\n",
       "    <tr>\n",
       "      <th>4</th>\n",
       "      <td>2539329</td>\n",
       "      <td>1</td>\n",
       "      <td>1</td>\n",
       "      <td>2</td>\n",
       "      <td>8</td>\n",
       "      <td>NaN</td>\n",
       "      <td>26405</td>\n",
       "      <td>5</td>\n",
       "      <td>0</td>\n",
       "      <td>both</td>\n",
       "      <td>XL Pick-A-Size Paper Towel Rolls</td>\n",
       "      <td>54.0</td>\n",
       "      <td>17.0</td>\n",
       "      <td>1.0</td>\n",
       "      <td>Regularly busy</td>\n",
       "      <td>Average orders</td>\n",
       "      <td>10</td>\n",
       "      <td>New customer</td>\n",
       "      <td>6.367797</td>\n",
       "      <td>Low spender</td>\n",
       "      <td>20.5</td>\n",
       "      <td>Non-frequent customer</td>\n",
       "      <td>Linda</td>\n",
       "      <td>Nguyen</td>\n",
       "      <td>Female</td>\n",
       "      <td>Alabama</td>\n",
       "      <td>31</td>\n",
       "      <td>2/17/2019</td>\n",
       "      <td>3</td>\n",
       "      <td>married</td>\n",
       "      <td>40423</td>\n",
       "    </tr>\n",
       "  </tbody>\n",
       "</table>\n",
       "</div>"
      ],
      "text/plain": [
       "   order_id  user_id  order_number  orders_day_of_week  order_hour_of_day  \\\n",
       "0   2539329        1             1                   2                  8   \n",
       "1   2539329        1             1                   2                  8   \n",
       "2   2539329        1             1                   2                  8   \n",
       "3   2539329        1             1                   2                  8   \n",
       "4   2539329        1             1                   2                  8   \n",
       "\n",
       "   days_since_prior_order  product_id  add_to_cart_order  reordered _merge  \\\n",
       "0                     NaN         196                  1          0   both   \n",
       "1                     NaN       14084                  2          0   both   \n",
       "2                     NaN       12427                  3          0   both   \n",
       "3                     NaN       26088                  4          0   both   \n",
       "4                     NaN       26405                  5          0   both   \n",
       "\n",
       "                              product_name  aisle_id  department_id  prices  \\\n",
       "0                                     Soda      77.0            7.0     9.0   \n",
       "1  Organic Unsweetened Vanilla Almond Milk      91.0           16.0    12.5   \n",
       "2                      Original Beef Jerky      23.0           19.0     4.4   \n",
       "3               Aged White Cheddar Popcorn      23.0           19.0     4.7   \n",
       "4         XL Pick-A-Size Paper Towel Rolls      54.0           17.0     1.0   \n",
       "\n",
       "      busiest_day busiest_period_of_day  max_orders  loyalty_flag  mean_order  \\\n",
       "0  Regularly busy        Average orders          10  New customer    6.367797   \n",
       "1  Regularly busy        Average orders          10  New customer    6.367797   \n",
       "2  Regularly busy        Average orders          10  New customer    6.367797   \n",
       "3  Regularly busy        Average orders          10  New customer    6.367797   \n",
       "4  Regularly busy        Average orders          10  New customer    6.367797   \n",
       "\n",
       "  spender_flag  frequency   order_frequency_flag first_name last_name  gender  \\\n",
       "0  Low spender       20.5  Non-frequent customer      Linda    Nguyen  Female   \n",
       "1  Low spender       20.5  Non-frequent customer      Linda    Nguyen  Female   \n",
       "2  Low spender       20.5  Non-frequent customer      Linda    Nguyen  Female   \n",
       "3  Low spender       20.5  Non-frequent customer      Linda    Nguyen  Female   \n",
       "4  Low spender       20.5  Non-frequent customer      Linda    Nguyen  Female   \n",
       "\n",
       "     state  age date_joined  n_dependants fam_status  income  \n",
       "0  Alabama   31   2/17/2019             3    married   40423  \n",
       "1  Alabama   31   2/17/2019             3    married   40423  \n",
       "2  Alabama   31   2/17/2019             3    married   40423  \n",
       "3  Alabama   31   2/17/2019             3    married   40423  \n",
       "4  Alabama   31   2/17/2019             3    married   40423  "
      ]
     },
     "execution_count": 4,
     "metadata": {},
     "output_type": "execute_result"
    }
   ],
   "source": [
    "ords_prods_merge.head()"
   ]
  },
  {
   "cell_type": "markdown",
   "metadata": {},
   "source": [
    "# PII Security"
   ]
  },
  {
   "cell_type": "code",
   "execution_count": 5,
   "metadata": {},
   "outputs": [
    {
     "data": {
      "text/html": [
       "<div>\n",
       "<style scoped>\n",
       "    .dataframe tbody tr th:only-of-type {\n",
       "        vertical-align: middle;\n",
       "    }\n",
       "\n",
       "    .dataframe tbody tr th {\n",
       "        vertical-align: top;\n",
       "    }\n",
       "\n",
       "    .dataframe thead th {\n",
       "        text-align: right;\n",
       "    }\n",
       "</style>\n",
       "<table border=\"1\" class=\"dataframe\">\n",
       "  <thead>\n",
       "    <tr style=\"text-align: right;\">\n",
       "      <th></th>\n",
       "      <th>order_id</th>\n",
       "      <th>user_id</th>\n",
       "      <th>order_number</th>\n",
       "      <th>orders_day_of_week</th>\n",
       "      <th>order_hour_of_day</th>\n",
       "      <th>days_since_prior_order</th>\n",
       "      <th>product_id</th>\n",
       "      <th>add_to_cart_order</th>\n",
       "      <th>reordered</th>\n",
       "      <th>_merge</th>\n",
       "      <th>product_name</th>\n",
       "      <th>aisle_id</th>\n",
       "      <th>department_id</th>\n",
       "      <th>prices</th>\n",
       "      <th>busiest_day</th>\n",
       "      <th>busiest_period_of_day</th>\n",
       "      <th>max_orders</th>\n",
       "      <th>loyalty_flag</th>\n",
       "      <th>mean_order</th>\n",
       "      <th>spender_flag</th>\n",
       "      <th>frequency</th>\n",
       "      <th>order_frequency_flag</th>\n",
       "      <th>gender</th>\n",
       "      <th>state</th>\n",
       "      <th>age</th>\n",
       "      <th>date_joined</th>\n",
       "      <th>n_dependants</th>\n",
       "      <th>fam_status</th>\n",
       "      <th>income</th>\n",
       "    </tr>\n",
       "  </thead>\n",
       "  <tbody>\n",
       "    <tr>\n",
       "      <th>0</th>\n",
       "      <td>2539329</td>\n",
       "      <td>1</td>\n",
       "      <td>1</td>\n",
       "      <td>2</td>\n",
       "      <td>8</td>\n",
       "      <td>NaN</td>\n",
       "      <td>196</td>\n",
       "      <td>1</td>\n",
       "      <td>0</td>\n",
       "      <td>both</td>\n",
       "      <td>Soda</td>\n",
       "      <td>77.0</td>\n",
       "      <td>7.0</td>\n",
       "      <td>9.0</td>\n",
       "      <td>Regularly busy</td>\n",
       "      <td>Average orders</td>\n",
       "      <td>10</td>\n",
       "      <td>New customer</td>\n",
       "      <td>6.367797</td>\n",
       "      <td>Low spender</td>\n",
       "      <td>20.5</td>\n",
       "      <td>Non-frequent customer</td>\n",
       "      <td>Female</td>\n",
       "      <td>Alabama</td>\n",
       "      <td>31</td>\n",
       "      <td>2/17/2019</td>\n",
       "      <td>3</td>\n",
       "      <td>married</td>\n",
       "      <td>40423</td>\n",
       "    </tr>\n",
       "    <tr>\n",
       "      <th>1</th>\n",
       "      <td>2539329</td>\n",
       "      <td>1</td>\n",
       "      <td>1</td>\n",
       "      <td>2</td>\n",
       "      <td>8</td>\n",
       "      <td>NaN</td>\n",
       "      <td>14084</td>\n",
       "      <td>2</td>\n",
       "      <td>0</td>\n",
       "      <td>both</td>\n",
       "      <td>Organic Unsweetened Vanilla Almond Milk</td>\n",
       "      <td>91.0</td>\n",
       "      <td>16.0</td>\n",
       "      <td>12.5</td>\n",
       "      <td>Regularly busy</td>\n",
       "      <td>Average orders</td>\n",
       "      <td>10</td>\n",
       "      <td>New customer</td>\n",
       "      <td>6.367797</td>\n",
       "      <td>Low spender</td>\n",
       "      <td>20.5</td>\n",
       "      <td>Non-frequent customer</td>\n",
       "      <td>Female</td>\n",
       "      <td>Alabama</td>\n",
       "      <td>31</td>\n",
       "      <td>2/17/2019</td>\n",
       "      <td>3</td>\n",
       "      <td>married</td>\n",
       "      <td>40423</td>\n",
       "    </tr>\n",
       "    <tr>\n",
       "      <th>2</th>\n",
       "      <td>2539329</td>\n",
       "      <td>1</td>\n",
       "      <td>1</td>\n",
       "      <td>2</td>\n",
       "      <td>8</td>\n",
       "      <td>NaN</td>\n",
       "      <td>12427</td>\n",
       "      <td>3</td>\n",
       "      <td>0</td>\n",
       "      <td>both</td>\n",
       "      <td>Original Beef Jerky</td>\n",
       "      <td>23.0</td>\n",
       "      <td>19.0</td>\n",
       "      <td>4.4</td>\n",
       "      <td>Regularly busy</td>\n",
       "      <td>Average orders</td>\n",
       "      <td>10</td>\n",
       "      <td>New customer</td>\n",
       "      <td>6.367797</td>\n",
       "      <td>Low spender</td>\n",
       "      <td>20.5</td>\n",
       "      <td>Non-frequent customer</td>\n",
       "      <td>Female</td>\n",
       "      <td>Alabama</td>\n",
       "      <td>31</td>\n",
       "      <td>2/17/2019</td>\n",
       "      <td>3</td>\n",
       "      <td>married</td>\n",
       "      <td>40423</td>\n",
       "    </tr>\n",
       "    <tr>\n",
       "      <th>3</th>\n",
       "      <td>2539329</td>\n",
       "      <td>1</td>\n",
       "      <td>1</td>\n",
       "      <td>2</td>\n",
       "      <td>8</td>\n",
       "      <td>NaN</td>\n",
       "      <td>26088</td>\n",
       "      <td>4</td>\n",
       "      <td>0</td>\n",
       "      <td>both</td>\n",
       "      <td>Aged White Cheddar Popcorn</td>\n",
       "      <td>23.0</td>\n",
       "      <td>19.0</td>\n",
       "      <td>4.7</td>\n",
       "      <td>Regularly busy</td>\n",
       "      <td>Average orders</td>\n",
       "      <td>10</td>\n",
       "      <td>New customer</td>\n",
       "      <td>6.367797</td>\n",
       "      <td>Low spender</td>\n",
       "      <td>20.5</td>\n",
       "      <td>Non-frequent customer</td>\n",
       "      <td>Female</td>\n",
       "      <td>Alabama</td>\n",
       "      <td>31</td>\n",
       "      <td>2/17/2019</td>\n",
       "      <td>3</td>\n",
       "      <td>married</td>\n",
       "      <td>40423</td>\n",
       "    </tr>\n",
       "    <tr>\n",
       "      <th>4</th>\n",
       "      <td>2539329</td>\n",
       "      <td>1</td>\n",
       "      <td>1</td>\n",
       "      <td>2</td>\n",
       "      <td>8</td>\n",
       "      <td>NaN</td>\n",
       "      <td>26405</td>\n",
       "      <td>5</td>\n",
       "      <td>0</td>\n",
       "      <td>both</td>\n",
       "      <td>XL Pick-A-Size Paper Towel Rolls</td>\n",
       "      <td>54.0</td>\n",
       "      <td>17.0</td>\n",
       "      <td>1.0</td>\n",
       "      <td>Regularly busy</td>\n",
       "      <td>Average orders</td>\n",
       "      <td>10</td>\n",
       "      <td>New customer</td>\n",
       "      <td>6.367797</td>\n",
       "      <td>Low spender</td>\n",
       "      <td>20.5</td>\n",
       "      <td>Non-frequent customer</td>\n",
       "      <td>Female</td>\n",
       "      <td>Alabama</td>\n",
       "      <td>31</td>\n",
       "      <td>2/17/2019</td>\n",
       "      <td>3</td>\n",
       "      <td>married</td>\n",
       "      <td>40423</td>\n",
       "    </tr>\n",
       "    <tr>\n",
       "      <th>...</th>\n",
       "      <td>...</td>\n",
       "      <td>...</td>\n",
       "      <td>...</td>\n",
       "      <td>...</td>\n",
       "      <td>...</td>\n",
       "      <td>...</td>\n",
       "      <td>...</td>\n",
       "      <td>...</td>\n",
       "      <td>...</td>\n",
       "      <td>...</td>\n",
       "      <td>...</td>\n",
       "      <td>...</td>\n",
       "      <td>...</td>\n",
       "      <td>...</td>\n",
       "      <td>...</td>\n",
       "      <td>...</td>\n",
       "      <td>...</td>\n",
       "      <td>...</td>\n",
       "      <td>...</td>\n",
       "      <td>...</td>\n",
       "      <td>...</td>\n",
       "      <td>...</td>\n",
       "      <td>...</td>\n",
       "      <td>...</td>\n",
       "      <td>...</td>\n",
       "      <td>...</td>\n",
       "      <td>...</td>\n",
       "      <td>...</td>\n",
       "      <td>...</td>\n",
       "    </tr>\n",
       "    <tr>\n",
       "      <th>32435054</th>\n",
       "      <td>2977660</td>\n",
       "      <td>206209</td>\n",
       "      <td>13</td>\n",
       "      <td>1</td>\n",
       "      <td>12</td>\n",
       "      <td>7.0</td>\n",
       "      <td>14197</td>\n",
       "      <td>5</td>\n",
       "      <td>1</td>\n",
       "      <td>both</td>\n",
       "      <td>Tomato Paste</td>\n",
       "      <td>9.0</td>\n",
       "      <td>9.0</td>\n",
       "      <td>5.6</td>\n",
       "      <td>Busiest days</td>\n",
       "      <td>Most orders</td>\n",
       "      <td>13</td>\n",
       "      <td>Regular customer</td>\n",
       "      <td>7.058915</td>\n",
       "      <td>Low spender</td>\n",
       "      <td>22.0</td>\n",
       "      <td>Non-frequent customer</td>\n",
       "      <td>Female</td>\n",
       "      <td>Iowa</td>\n",
       "      <td>74</td>\n",
       "      <td>9/14/2019</td>\n",
       "      <td>3</td>\n",
       "      <td>married</td>\n",
       "      <td>137969</td>\n",
       "    </tr>\n",
       "    <tr>\n",
       "      <th>32435055</th>\n",
       "      <td>2977660</td>\n",
       "      <td>206209</td>\n",
       "      <td>13</td>\n",
       "      <td>1</td>\n",
       "      <td>12</td>\n",
       "      <td>7.0</td>\n",
       "      <td>38730</td>\n",
       "      <td>6</td>\n",
       "      <td>0</td>\n",
       "      <td>both</td>\n",
       "      <td>Brownie Crunch High Protein Bar</td>\n",
       "      <td>3.0</td>\n",
       "      <td>19.0</td>\n",
       "      <td>5.9</td>\n",
       "      <td>Busiest days</td>\n",
       "      <td>Most orders</td>\n",
       "      <td>13</td>\n",
       "      <td>Regular customer</td>\n",
       "      <td>7.058915</td>\n",
       "      <td>Low spender</td>\n",
       "      <td>22.0</td>\n",
       "      <td>Non-frequent customer</td>\n",
       "      <td>Female</td>\n",
       "      <td>Iowa</td>\n",
       "      <td>74</td>\n",
       "      <td>9/14/2019</td>\n",
       "      <td>3</td>\n",
       "      <td>married</td>\n",
       "      <td>137969</td>\n",
       "    </tr>\n",
       "    <tr>\n",
       "      <th>32435056</th>\n",
       "      <td>2977660</td>\n",
       "      <td>206209</td>\n",
       "      <td>13</td>\n",
       "      <td>1</td>\n",
       "      <td>12</td>\n",
       "      <td>7.0</td>\n",
       "      <td>31477</td>\n",
       "      <td>7</td>\n",
       "      <td>0</td>\n",
       "      <td>both</td>\n",
       "      <td>High Protein Bar Chunky Peanut Butter</td>\n",
       "      <td>3.0</td>\n",
       "      <td>19.0</td>\n",
       "      <td>4.2</td>\n",
       "      <td>Busiest days</td>\n",
       "      <td>Most orders</td>\n",
       "      <td>13</td>\n",
       "      <td>Regular customer</td>\n",
       "      <td>7.058915</td>\n",
       "      <td>Low spender</td>\n",
       "      <td>22.0</td>\n",
       "      <td>Non-frequent customer</td>\n",
       "      <td>Female</td>\n",
       "      <td>Iowa</td>\n",
       "      <td>74</td>\n",
       "      <td>9/14/2019</td>\n",
       "      <td>3</td>\n",
       "      <td>married</td>\n",
       "      <td>137969</td>\n",
       "    </tr>\n",
       "    <tr>\n",
       "      <th>32435057</th>\n",
       "      <td>2977660</td>\n",
       "      <td>206209</td>\n",
       "      <td>13</td>\n",
       "      <td>1</td>\n",
       "      <td>12</td>\n",
       "      <td>7.0</td>\n",
       "      <td>6567</td>\n",
       "      <td>8</td>\n",
       "      <td>0</td>\n",
       "      <td>both</td>\n",
       "      <td>Chocolate Peanut Butter Protein Bar</td>\n",
       "      <td>3.0</td>\n",
       "      <td>19.0</td>\n",
       "      <td>4.9</td>\n",
       "      <td>Busiest days</td>\n",
       "      <td>Most orders</td>\n",
       "      <td>13</td>\n",
       "      <td>Regular customer</td>\n",
       "      <td>7.058915</td>\n",
       "      <td>Low spender</td>\n",
       "      <td>22.0</td>\n",
       "      <td>Non-frequent customer</td>\n",
       "      <td>Female</td>\n",
       "      <td>Iowa</td>\n",
       "      <td>74</td>\n",
       "      <td>9/14/2019</td>\n",
       "      <td>3</td>\n",
       "      <td>married</td>\n",
       "      <td>137969</td>\n",
       "    </tr>\n",
       "    <tr>\n",
       "      <th>32435058</th>\n",
       "      <td>2977660</td>\n",
       "      <td>206209</td>\n",
       "      <td>13</td>\n",
       "      <td>1</td>\n",
       "      <td>12</td>\n",
       "      <td>7.0</td>\n",
       "      <td>22920</td>\n",
       "      <td>9</td>\n",
       "      <td>0</td>\n",
       "      <td>both</td>\n",
       "      <td>Roasted &amp; Salted Shelled Pistachios</td>\n",
       "      <td>117.0</td>\n",
       "      <td>19.0</td>\n",
       "      <td>1.7</td>\n",
       "      <td>Busiest days</td>\n",
       "      <td>Most orders</td>\n",
       "      <td>13</td>\n",
       "      <td>Regular customer</td>\n",
       "      <td>7.058915</td>\n",
       "      <td>Low spender</td>\n",
       "      <td>22.0</td>\n",
       "      <td>Non-frequent customer</td>\n",
       "      <td>Female</td>\n",
       "      <td>Iowa</td>\n",
       "      <td>74</td>\n",
       "      <td>9/14/2019</td>\n",
       "      <td>3</td>\n",
       "      <td>married</td>\n",
       "      <td>137969</td>\n",
       "    </tr>\n",
       "  </tbody>\n",
       "</table>\n",
       "<p>32435059 rows × 29 columns</p>\n",
       "</div>"
      ],
      "text/plain": [
       "          order_id  user_id  order_number  orders_day_of_week  \\\n",
       "0          2539329        1             1                   2   \n",
       "1          2539329        1             1                   2   \n",
       "2          2539329        1             1                   2   \n",
       "3          2539329        1             1                   2   \n",
       "4          2539329        1             1                   2   \n",
       "...            ...      ...           ...                 ...   \n",
       "32435054   2977660   206209            13                   1   \n",
       "32435055   2977660   206209            13                   1   \n",
       "32435056   2977660   206209            13                   1   \n",
       "32435057   2977660   206209            13                   1   \n",
       "32435058   2977660   206209            13                   1   \n",
       "\n",
       "          order_hour_of_day  days_since_prior_order  product_id  \\\n",
       "0                         8                     NaN         196   \n",
       "1                         8                     NaN       14084   \n",
       "2                         8                     NaN       12427   \n",
       "3                         8                     NaN       26088   \n",
       "4                         8                     NaN       26405   \n",
       "...                     ...                     ...         ...   \n",
       "32435054                 12                     7.0       14197   \n",
       "32435055                 12                     7.0       38730   \n",
       "32435056                 12                     7.0       31477   \n",
       "32435057                 12                     7.0        6567   \n",
       "32435058                 12                     7.0       22920   \n",
       "\n",
       "          add_to_cart_order  reordered _merge  \\\n",
       "0                         1          0   both   \n",
       "1                         2          0   both   \n",
       "2                         3          0   both   \n",
       "3                         4          0   both   \n",
       "4                         5          0   both   \n",
       "...                     ...        ...    ...   \n",
       "32435054                  5          1   both   \n",
       "32435055                  6          0   both   \n",
       "32435056                  7          0   both   \n",
       "32435057                  8          0   both   \n",
       "32435058                  9          0   both   \n",
       "\n",
       "                                     product_name  aisle_id  department_id  \\\n",
       "0                                            Soda      77.0            7.0   \n",
       "1         Organic Unsweetened Vanilla Almond Milk      91.0           16.0   \n",
       "2                             Original Beef Jerky      23.0           19.0   \n",
       "3                      Aged White Cheddar Popcorn      23.0           19.0   \n",
       "4                XL Pick-A-Size Paper Towel Rolls      54.0           17.0   \n",
       "...                                           ...       ...            ...   \n",
       "32435054                             Tomato Paste       9.0            9.0   \n",
       "32435055          Brownie Crunch High Protein Bar       3.0           19.0   \n",
       "32435056    High Protein Bar Chunky Peanut Butter       3.0           19.0   \n",
       "32435057      Chocolate Peanut Butter Protein Bar       3.0           19.0   \n",
       "32435058      Roasted & Salted Shelled Pistachios     117.0           19.0   \n",
       "\n",
       "          prices     busiest_day busiest_period_of_day  max_orders  \\\n",
       "0            9.0  Regularly busy        Average orders          10   \n",
       "1           12.5  Regularly busy        Average orders          10   \n",
       "2            4.4  Regularly busy        Average orders          10   \n",
       "3            4.7  Regularly busy        Average orders          10   \n",
       "4            1.0  Regularly busy        Average orders          10   \n",
       "...          ...             ...                   ...         ...   \n",
       "32435054     5.6    Busiest days           Most orders          13   \n",
       "32435055     5.9    Busiest days           Most orders          13   \n",
       "32435056     4.2    Busiest days           Most orders          13   \n",
       "32435057     4.9    Busiest days           Most orders          13   \n",
       "32435058     1.7    Busiest days           Most orders          13   \n",
       "\n",
       "              loyalty_flag  mean_order spender_flag  frequency  \\\n",
       "0             New customer    6.367797  Low spender       20.5   \n",
       "1             New customer    6.367797  Low spender       20.5   \n",
       "2             New customer    6.367797  Low spender       20.5   \n",
       "3             New customer    6.367797  Low spender       20.5   \n",
       "4             New customer    6.367797  Low spender       20.5   \n",
       "...                    ...         ...          ...        ...   \n",
       "32435054  Regular customer    7.058915  Low spender       22.0   \n",
       "32435055  Regular customer    7.058915  Low spender       22.0   \n",
       "32435056  Regular customer    7.058915  Low spender       22.0   \n",
       "32435057  Regular customer    7.058915  Low spender       22.0   \n",
       "32435058  Regular customer    7.058915  Low spender       22.0   \n",
       "\n",
       "           order_frequency_flag  gender    state  age date_joined  \\\n",
       "0         Non-frequent customer  Female  Alabama   31   2/17/2019   \n",
       "1         Non-frequent customer  Female  Alabama   31   2/17/2019   \n",
       "2         Non-frequent customer  Female  Alabama   31   2/17/2019   \n",
       "3         Non-frequent customer  Female  Alabama   31   2/17/2019   \n",
       "4         Non-frequent customer  Female  Alabama   31   2/17/2019   \n",
       "...                         ...     ...      ...  ...         ...   \n",
       "32435054  Non-frequent customer  Female     Iowa   74   9/14/2019   \n",
       "32435055  Non-frequent customer  Female     Iowa   74   9/14/2019   \n",
       "32435056  Non-frequent customer  Female     Iowa   74   9/14/2019   \n",
       "32435057  Non-frequent customer  Female     Iowa   74   9/14/2019   \n",
       "32435058  Non-frequent customer  Female     Iowa   74   9/14/2019   \n",
       "\n",
       "          n_dependants fam_status  income  \n",
       "0                    3    married   40423  \n",
       "1                    3    married   40423  \n",
       "2                    3    married   40423  \n",
       "3                    3    married   40423  \n",
       "4                    3    married   40423  \n",
       "...                ...        ...     ...  \n",
       "32435054             3    married  137969  \n",
       "32435055             3    married  137969  \n",
       "32435056             3    married  137969  \n",
       "32435057             3    married  137969  \n",
       "32435058             3    married  137969  \n",
       "\n",
       "[32435059 rows x 29 columns]"
      ]
     },
     "execution_count": 5,
     "metadata": {},
     "output_type": "execute_result"
    }
   ],
   "source": [
    "# dropping columns for confidentaility\n",
    "\n",
    "ords_prods_merge.drop(columns = ['first_name','last_name'])"
   ]
  },
  {
   "cell_type": "code",
   "execution_count": 6,
   "metadata": {},
   "outputs": [],
   "source": [
    "#deleting unnecessary column\n",
    "\n",
    "del ords_prods_merge['_merge']"
   ]
  },
  {
   "cell_type": "markdown",
   "metadata": {},
   "source": [
    "# Regional Columns"
   ]
  },
  {
   "cell_type": "code",
   "execution_count": 4,
   "metadata": {},
   "outputs": [],
   "source": [
    "# creating 'region' column\n",
    "\n",
    "result = []\n",
    "\n",
    "for state in ords_prods_merge['state']:\n",
    "    if (state == \"Maine\") or (state == \"New Hampshire\") or (state == \"Vermont\") or (state == \"Massachusetts\") or (state == \"Rhode Island\") or (state == \"Connecticut\") or (state == \"New York\") or (state == \"Pennsylvania\") or (state == \"New Jersey\"):\n",
    "        result.append(\"Northeast\")\n",
    "    elif  (state == \"Wisconsin\") or (state == \"Michigan\") or  (state == \"Illinois\") or (state == \"Indiana\") or (state == \"Ohio\") or (state == \"North Dakota\") or (state == \"South Dakota\") or (state == \"Nebraska\") or (state == \"Kansas\") or (state == \"Minnesota\") or (state == \"Iowa\") or (state == \"Missouri\"):\n",
    "        result.append(\"Midwest\")\n",
    "    elif (state == \"Delaware\") or (state == \"Maryland\") or (state == \"District of Columbia\") or (state == \"Virginia\") or (state == \"West Virginia\") or (state == \"North Carolina\") or (state == \"South Carolina\") or (state == \"Georgia\") or (state == \"Florida\") or (state == \"Kentucky\") or (state == \"Tennessee\") or (state == \"Mississippi\") or (state == \"Alabama\") or (state == \"Oklahoma\") or (state == \"Texas\") or (state == \"Arkansas\") or (state == \"Louisiana\"):\n",
    "        result.append(\"South\")\n",
    "    else:\n",
    "        result.append(\"West\")"
   ]
  },
  {
   "cell_type": "code",
   "execution_count": 5,
   "metadata": {},
   "outputs": [],
   "source": [
    "ords_prods_merge['region'] = result"
   ]
  },
  {
   "cell_type": "code",
   "execution_count": 6,
   "metadata": {},
   "outputs": [
    {
     "data": {
      "text/plain": [
       "South        10801982\n",
       "West          8300617\n",
       "Midwest       7604016\n",
       "Northeast     5728444\n",
       "Name: region, dtype: int64"
      ]
     },
     "execution_count": 6,
     "metadata": {},
     "output_type": "execute_result"
    }
   ],
   "source": [
    "ords_prods_merge['region'].value_counts(dropna = False)"
   ]
  },
  {
   "cell_type": "markdown",
   "metadata": {},
   "source": [
    "# Crosstab"
   ]
  },
  {
   "cell_type": "code",
   "execution_count": 15,
   "metadata": {},
   "outputs": [],
   "source": [
    "# crosstab spender & region\n",
    "\n",
    "crosstab = pd.crosstab(ords_prods_merge['region'], ords_prods_merge['spender_flag'], dropna = False)"
   ]
  },
  {
   "cell_type": "code",
   "execution_count": 11,
   "metadata": {},
   "outputs": [],
   "source": [
    "crosstab.to_clipboard()"
   ]
  },
  {
   "cell_type": "markdown",
   "metadata": {},
   "source": [
    "### Both low and high spenders are in the South region. This tells us that majority of Instacart customers are in the South region."
   ]
  },
  {
   "cell_type": "markdown",
   "metadata": {},
   "source": [
    "# Low Activity Customers"
   ]
  },
  {
   "cell_type": "code",
   "execution_count": 7,
   "metadata": {},
   "outputs": [],
   "source": [
    "# creating exclusion flag for low activity customers\n",
    "\n",
    "ords_prods_merge.loc[ords_prods_merge['max_orders'] < 5, 'activity'] = 'Low'"
   ]
  },
  {
   "cell_type": "code",
   "execution_count": 8,
   "metadata": {},
   "outputs": [],
   "source": [
    "# creating exclusion flag for high activity customers\n",
    "\n",
    "ords_prods_merge.loc[ords_prods_merge['max_orders'] > 5, 'activity'] = 'High'"
   ]
  },
  {
   "cell_type": "code",
   "execution_count": 9,
   "metadata": {},
   "outputs": [],
   "source": [
    "# exporting a sample of high activity customers\n",
    "\n",
    "df = ords_prods_merge[ords_prods_merge['max_orders'] > 5]"
   ]
  },
  {
   "cell_type": "markdown",
   "metadata": {},
   "source": [
    "# Family Profiles"
   ]
  },
  {
   "cell_type": "code",
   "execution_count": 19,
   "metadata": {},
   "outputs": [],
   "source": [
    "# crosstabs on family status and items purchased\n",
    "\n",
    "crosstab_2 = pd.crosstab(df['fam_status'], df['department_id'], dropna = False)\n",
    "crosstab_2.to_clipboard()"
   ]
  },
  {
   "cell_type": "code",
   "execution_count": 20,
   "metadata": {},
   "outputs": [],
   "source": [
    "# crosstabs on age and items purchased\n",
    "\n",
    "crosstab_3 = pd.crosstab(df['age'], df['department_id'], dropna = False)\n",
    "crosstab_3.to_clipboard()"
   ]
  },
  {
   "cell_type": "code",
   "execution_count": 18,
   "metadata": {},
   "outputs": [],
   "source": [
    "# what time is most money spent\n",
    "\n",
    "crosstab_4 = pd.crosstab(df['prices'].sum(), df['order_hour_of_day'], dropna = False)\n",
    "crosstab_4.to_clipboard()"
   ]
  },
  {
   "cell_type": "code",
   "execution_count": 19,
   "metadata": {},
   "outputs": [],
   "source": [
    "# which day is most money spent\n",
    "\n",
    "crosstab_5 = pd.crosstab(df['prices'].sum(), df['orders_day_of_week'], dropna = False)\n",
    "crosstab_5.to_clipboard()"
   ]
  },
  {
   "cell_type": "code",
   "execution_count": 20,
   "metadata": {},
   "outputs": [],
   "source": [
    "# which family status spends the most\n",
    "\n",
    "crosstab_6 = pd.crosstab(df['prices'].sum(), df['fam_status'], dropna = False)\n",
    "crosstab_6.to_clipboard()"
   ]
  },
  {
   "cell_type": "markdown",
   "metadata": {},
   "source": [
    "# Visualizations"
   ]
  },
  {
   "cell_type": "code",
   "execution_count": 14,
   "metadata": {},
   "outputs": [],
   "source": [
    "# creating random sample\n",
    "\n",
    "np.random.seed(4)\n",
    "dev = np.random.rand(len(df)) <= 0.7"
   ]
  },
  {
   "cell_type": "code",
   "execution_count": 15,
   "metadata": {},
   "outputs": [],
   "source": [
    "# splitting the sample into two\n",
    "\n",
    "big = df[dev]\n",
    "small = df[~dev]"
   ]
  },
  {
   "cell_type": "code",
   "execution_count": 16,
   "metadata": {},
   "outputs": [
    {
     "data": {
      "text/plain": [
       "30199644"
      ]
     },
     "execution_count": 16,
     "metadata": {},
     "output_type": "execute_result"
    }
   ],
   "source": [
    "len(big) + len(small)"
   ]
  },
  {
   "cell_type": "code",
   "execution_count": 17,
   "metadata": {},
   "outputs": [
    {
     "data": {
      "text/plain": [
       "30199644"
      ]
     },
     "execution_count": 17,
     "metadata": {},
     "output_type": "execute_result"
    }
   ],
   "source": [
    "len(df)"
   ]
  },
  {
   "cell_type": "code",
   "execution_count": 22,
   "metadata": {},
   "outputs": [
    {
     "data": {
      "image/png": "[encoded data removed]",
      "text/plain": [
       "<Figure size 432x288 with 1 Axes>"
      ]
     },
     "metadata": {
      "needs_background": "light"
     },
     "output_type": "display_data"
    }
   ],
   "source": [
    "bar_3 = df['busiest_period_of_day'].value_counts('orders_day_of_week').plot.bar()"
   ]
  },
  {
   "cell_type": "code",
   "execution_count": 25,
   "metadata": {},
   "outputs": [],
   "source": [
    "df_2 = small[['orders_day_of_week', 'prices']]"
   ]
  },
  {
   "cell_type": "code",
   "execution_count": 26,
   "metadata": {},
   "outputs": [
    {
     "data": {
      "image/png": "[encoded data removed]",
      "text/plain": [
       "<Figure size 432x288 with 1 Axes>"
      ]
     },
     "metadata": {
      "needs_background": "light"
     },
     "output_type": "display_data"
    }
   ],
   "source": [
    "# lineplot of which day most money is spent\n",
    "\n",
    "line = sns.lineplot(data = df_2, x = 'orders_day_of_week', y = 'prices')"
   ]
  },
  {
   "cell_type": "code",
   "execution_count": 27,
   "metadata": {},
   "outputs": [],
   "source": [
    "line.figure.savefig('prices_vs_day.png')"
   ]
  },
  {
   "cell_type": "code",
   "execution_count": 28,
   "metadata": {},
   "outputs": [
    {
     "data": {
      "image/png": "[encoded data removed]",
      "text/plain": [
       "<Figure size 432x288 with 1 Axes>"
      ]
     },
     "metadata": {
      "needs_background": "light"
     },
     "output_type": "display_data"
    }
   ],
   "source": [
    "# how family status impacts amount spent\n",
    "\n",
    "bar = df['fam_status'].value_counts('prices').plot.bar()"
   ]
  },
  {
   "cell_type": "code",
   "execution_count": 29,
   "metadata": {},
   "outputs": [],
   "source": [
    "bar.figure.savefig('status_vs_price.png')"
   ]
  },
  {
   "cell_type": "code",
   "execution_count": 23,
   "metadata": {},
   "outputs": [],
   "source": [
    "# fam status and number of items purchased\n",
    "\n",
    "bar_2 = df.groupby(['department_id', 'fam_status'])['department_id'].count().unstack('fam_status').fillna(0)"
   ]
  },
  {
   "cell_type": "code",
   "execution_count": 24,
   "metadata": {},
   "outputs": [
    {
     "data": {
      "text/plain": [
       "<matplotlib.axes._subplots.AxesSubplot at 0x7fd8b42af690>"
      ]
     },
     "execution_count": 24,
     "metadata": {},
     "output_type": "execute_result"
    },
    {
     "data": {
      "image/png": "[encoded data removed]",
      "text/plain": [
       "<Figure size 432x288 with 1 Axes>"
      ]
     },
     "metadata": {
      "needs_background": "light"
     },
     "output_type": "display_data"
    }
   ],
   "source": [
    "bar_2.plot(kind = 'bar', stacked = True)"
   ]
  },
  {
   "cell_type": "code",
   "execution_count": 22,
   "metadata": {},
   "outputs": [],
   "source": [
    "# loyalty customers spending habits\n",
    "\n",
    "bar_6 = df.groupby(['department_id', 'loyalty_flag'])['department_id'].count().unstack('loyalty_flag').fillna(0)"
   ]
  },
  {
   "cell_type": "code",
   "execution_count": 23,
   "metadata": {},
   "outputs": [
    {
     "data": {
      "text/plain": [
       "<matplotlib.axes._subplots.AxesSubplot at 0x7f95fbd41e90>"
      ]
     },
     "execution_count": 23,
     "metadata": {},
     "output_type": "execute_result"
    },
    {
     "data": {
      "image/png": "[encoded data removed]",
      "text/plain": [
       "<Figure size 432x288 with 1 Axes>"
      ]
     },
     "metadata": {
      "needs_background": "light"
     },
     "output_type": "display_data"
    }
   ],
   "source": [
    "bar_6.plot(kind = 'bar', stacked = True)"
   ]
  },
  {
   "cell_type": "code",
   "execution_count": 30,
   "metadata": {},
   "outputs": [
    {
     "data": {
      "image/png": "[encoded data removed]",
      "text/plain": [
       "<Figure size 432x288 with 1 Axes>"
      ]
     },
     "metadata": {
      "needs_background": "light"
     },
     "output_type": "display_data"
    }
   ],
   "source": [
    "# most popular departments\n",
    "\n",
    "bar_3 = df['department_id'].value_counts('prices').plot.bar()"
   ]
  },
  {
   "cell_type": "code",
   "execution_count": 31,
   "metadata": {},
   "outputs": [],
   "source": [
    "bar_3.figure.savefig('department_id.png')"
   ]
  },
  {
   "cell_type": "code",
   "execution_count": 31,
   "metadata": {},
   "outputs": [
    {
     "data": {
      "image/png": "[encoded data removed]",
      "text/plain": [
       "<Figure size 432x288 with 1 Axes>"
      ]
     },
     "metadata": {
      "needs_background": "light"
     },
     "output_type": "display_data"
    }
   ],
   "source": [
    "# the busiest hour of the day\n",
    "\n",
    "hist = df['order_hour_of_day'].plot.hist(bins = 24)"
   ]
  },
  {
   "cell_type": "code",
   "execution_count": 26,
   "metadata": {},
   "outputs": [
    {
     "data": {
      "image/png": "[encoded data removed]",
      "text/plain": [
       "<Figure size 432x288 with 1 Axes>"
      ]
     },
     "metadata": {
      "needs_background": "light"
     },
     "output_type": "display_data"
    }
   ],
   "source": [
    "# the loyalty of returning customers\n",
    "\n",
    "hist_2 = df['days_since_prior_order'].plot.hist(bins = 25)"
   ]
  },
  {
   "cell_type": "code",
   "execution_count": 25,
   "metadata": {},
   "outputs": [
    {
     "data": {
      "image/png": "[encoded data removed]",
      "text/plain": [
       "<Figure size 432x288 with 1 Axes>"
      ]
     },
     "metadata": {
      "needs_background": "light"
     },
     "output_type": "display_data"
    }
   ],
   "source": [
    "# viewing the range of prices for items\n",
    "\n",
    "hist_1 = df['prices'].plot.hist(bins = 25)"
   ]
  },
  {
   "cell_type": "markdown",
   "metadata": {},
   "source": [
    "# Aggregation"
   ]
  },
  {
   "cell_type": "code",
   "execution_count": 28,
   "metadata": {},
   "outputs": [
    {
     "data": {
      "text/html": [
       "<div>\n",
       "<style scoped>\n",
       "    .dataframe tbody tr th:only-of-type {\n",
       "        vertical-align: middle;\n",
       "    }\n",
       "\n",
       "    .dataframe tbody tr th {\n",
       "        vertical-align: top;\n",
       "    }\n",
       "\n",
       "    .dataframe thead tr th {\n",
       "        text-align: left;\n",
       "    }\n",
       "\n",
       "    .dataframe thead tr:last-of-type th {\n",
       "        text-align: right;\n",
       "    }\n",
       "</style>\n",
       "<table border=\"1\" class=\"dataframe\">\n",
       "  <thead>\n",
       "    <tr>\n",
       "      <th></th>\n",
       "      <th colspan=\"3\" halign=\"left\">prices</th>\n",
       "    </tr>\n",
       "    <tr>\n",
       "      <th></th>\n",
       "      <th>mean</th>\n",
       "      <th>min</th>\n",
       "      <th>max</th>\n",
       "    </tr>\n",
       "    <tr>\n",
       "      <th>user_id</th>\n",
       "      <th></th>\n",
       "      <th></th>\n",
       "      <th></th>\n",
       "    </tr>\n",
       "  </thead>\n",
       "  <tbody>\n",
       "    <tr>\n",
       "      <th>1</th>\n",
       "      <td>6.367797</td>\n",
       "      <td>1.0</td>\n",
       "      <td>14.0</td>\n",
       "    </tr>\n",
       "    <tr>\n",
       "      <th>2</th>\n",
       "      <td>7.515897</td>\n",
       "      <td>1.3</td>\n",
       "      <td>14.8</td>\n",
       "    </tr>\n",
       "    <tr>\n",
       "      <th>3</th>\n",
       "      <td>8.197727</td>\n",
       "      <td>1.3</td>\n",
       "      <td>14.4</td>\n",
       "    </tr>\n",
       "    <tr>\n",
       "      <th>7</th>\n",
       "      <td>7.466990</td>\n",
       "      <td>1.1</td>\n",
       "      <td>23.2</td>\n",
       "    </tr>\n",
       "    <tr>\n",
       "      <th>11</th>\n",
       "      <td>8.328723</td>\n",
       "      <td>1.4</td>\n",
       "      <td>14.7</td>\n",
       "    </tr>\n",
       "    <tr>\n",
       "      <th>...</th>\n",
       "      <td>...</td>\n",
       "      <td>...</td>\n",
       "      <td>...</td>\n",
       "    </tr>\n",
       "    <tr>\n",
       "      <th>206202</th>\n",
       "      <td>8.156061</td>\n",
       "      <td>1.0</td>\n",
       "      <td>17.1</td>\n",
       "    </tr>\n",
       "    <tr>\n",
       "      <th>206206</th>\n",
       "      <td>7.646667</td>\n",
       "      <td>1.1</td>\n",
       "      <td>14.8</td>\n",
       "    </tr>\n",
       "    <tr>\n",
       "      <th>206207</th>\n",
       "      <td>7.313453</td>\n",
       "      <td>1.2</td>\n",
       "      <td>24.7</td>\n",
       "    </tr>\n",
       "    <tr>\n",
       "      <th>206208</th>\n",
       "      <td>8.366617</td>\n",
       "      <td>1.1</td>\n",
       "      <td>21.6</td>\n",
       "    </tr>\n",
       "    <tr>\n",
       "      <th>206209</th>\n",
       "      <td>7.058915</td>\n",
       "      <td>1.1</td>\n",
       "      <td>18.8</td>\n",
       "    </tr>\n",
       "  </tbody>\n",
       "</table>\n",
       "<p>146468 rows × 3 columns</p>\n",
       "</div>"
      ],
      "text/plain": [
       "           prices           \n",
       "             mean  min   max\n",
       "user_id                     \n",
       "1        6.367797  1.0  14.0\n",
       "2        7.515897  1.3  14.8\n",
       "3        8.197727  1.3  14.4\n",
       "7        7.466990  1.1  23.2\n",
       "11       8.328723  1.4  14.7\n",
       "...           ...  ...   ...\n",
       "206202   8.156061  1.0  17.1\n",
       "206206   7.646667  1.1  14.8\n",
       "206207   7.313453  1.2  24.7\n",
       "206208   8.366617  1.1  21.6\n",
       "206209   7.058915  1.1  18.8\n",
       "\n",
       "[146468 rows x 3 columns]"
      ]
     },
     "execution_count": 28,
     "metadata": {},
     "output_type": "execute_result"
    }
   ],
   "source": [
    "# grouping users by expenditure\n",
    "\n",
    "df.groupby('user_id').agg({'prices':['mean', 'min', 'max']})"
   ]
  },
  {
   "cell_type": "code",
   "execution_count": 29,
   "metadata": {},
   "outputs": [
    {
     "data": {
      "text/html": [
       "<div>\n",
       "<style scoped>\n",
       "    .dataframe tbody tr th:only-of-type {\n",
       "        vertical-align: middle;\n",
       "    }\n",
       "\n",
       "    .dataframe tbody tr th {\n",
       "        vertical-align: top;\n",
       "    }\n",
       "\n",
       "    .dataframe thead tr th {\n",
       "        text-align: left;\n",
       "    }\n",
       "\n",
       "    .dataframe thead tr:last-of-type th {\n",
       "        text-align: right;\n",
       "    }\n",
       "</style>\n",
       "<table border=\"1\" class=\"dataframe\">\n",
       "  <thead>\n",
       "    <tr>\n",
       "      <th></th>\n",
       "      <th colspan=\"3\" halign=\"left\">days_since_prior_order</th>\n",
       "    </tr>\n",
       "    <tr>\n",
       "      <th></th>\n",
       "      <th>mean</th>\n",
       "      <th>min</th>\n",
       "      <th>max</th>\n",
       "    </tr>\n",
       "    <tr>\n",
       "      <th>user_id</th>\n",
       "      <th></th>\n",
       "      <th></th>\n",
       "      <th></th>\n",
       "    </tr>\n",
       "  </thead>\n",
       "  <tbody>\n",
       "    <tr>\n",
       "      <th>1</th>\n",
       "      <td>20.259259</td>\n",
       "      <td>0.0</td>\n",
       "      <td>30.0</td>\n",
       "    </tr>\n",
       "    <tr>\n",
       "      <th>2</th>\n",
       "      <td>15.967033</td>\n",
       "      <td>3.0</td>\n",
       "      <td>30.0</td>\n",
       "    </tr>\n",
       "    <tr>\n",
       "      <th>3</th>\n",
       "      <td>11.487179</td>\n",
       "      <td>7.0</td>\n",
       "      <td>21.0</td>\n",
       "    </tr>\n",
       "    <tr>\n",
       "      <th>7</th>\n",
       "      <td>13.546392</td>\n",
       "      <td>2.0</td>\n",
       "      <td>30.0</td>\n",
       "    </tr>\n",
       "    <tr>\n",
       "      <th>11</th>\n",
       "      <td>19.320988</td>\n",
       "      <td>7.0</td>\n",
       "      <td>30.0</td>\n",
       "    </tr>\n",
       "    <tr>\n",
       "      <th>...</th>\n",
       "      <td>...</td>\n",
       "      <td>...</td>\n",
       "      <td>...</td>\n",
       "    </tr>\n",
       "    <tr>\n",
       "      <th>206202</th>\n",
       "      <td>12.093750</td>\n",
       "      <td>3.0</td>\n",
       "      <td>30.0</td>\n",
       "    </tr>\n",
       "    <tr>\n",
       "      <th>206206</th>\n",
       "      <td>4.042705</td>\n",
       "      <td>0.0</td>\n",
       "      <td>15.0</td>\n",
       "    </tr>\n",
       "    <tr>\n",
       "      <th>206207</th>\n",
       "      <td>14.879397</td>\n",
       "      <td>1.0</td>\n",
       "      <td>30.0</td>\n",
       "    </tr>\n",
       "    <tr>\n",
       "      <th>206208</th>\n",
       "      <td>7.442105</td>\n",
       "      <td>0.0</td>\n",
       "      <td>20.0</td>\n",
       "    </tr>\n",
       "    <tr>\n",
       "      <th>206209</th>\n",
       "      <td>20.275862</td>\n",
       "      <td>3.0</td>\n",
       "      <td>30.0</td>\n",
       "    </tr>\n",
       "  </tbody>\n",
       "</table>\n",
       "<p>146468 rows × 3 columns</p>\n",
       "</div>"
      ],
      "text/plain": [
       "        days_since_prior_order           \n",
       "                          mean  min   max\n",
       "user_id                                  \n",
       "1                    20.259259  0.0  30.0\n",
       "2                    15.967033  3.0  30.0\n",
       "3                    11.487179  7.0  21.0\n",
       "7                    13.546392  2.0  30.0\n",
       "11                   19.320988  7.0  30.0\n",
       "...                        ...  ...   ...\n",
       "206202               12.093750  3.0  30.0\n",
       "206206                4.042705  0.0  15.0\n",
       "206207               14.879397  1.0  30.0\n",
       "206208                7.442105  0.0  20.0\n",
       "206209               20.275862  3.0  30.0\n",
       "\n",
       "[146468 rows x 3 columns]"
      ]
     },
     "execution_count": 29,
     "metadata": {},
     "output_type": "execute_result"
    }
   ],
   "source": [
    "# grouping users by frequency\n",
    "\n",
    "df.groupby('user_id').agg({'days_since_prior_order': ['mean', 'min', 'max']})"
   ]
  },
  {
   "cell_type": "markdown",
   "metadata": {},
   "source": [
    "# Comparing Profiles"
   ]
  },
  {
   "cell_type": "code",
   "execution_count": 18,
   "metadata": {},
   "outputs": [],
   "source": [
    "# regions and number of items purchased\n",
    "\n",
    "bar_4 = df.groupby(['department_id', 'region'])['department_id'].count().unstack('region').fillna(0)"
   ]
  },
  {
   "cell_type": "code",
   "execution_count": 19,
   "metadata": {},
   "outputs": [
    {
     "data": {
      "text/plain": [
       "<matplotlib.axes._subplots.AxesSubplot at 0x7f9cd35ff890>"
      ]
     },
     "execution_count": 19,
     "metadata": {},
     "output_type": "execute_result"
    },
    {
     "data": {
      "image/png": "[encoded data removed]",
      "text/plain": [
       "<Figure size 432x288 with 1 Axes>"
      ]
     },
     "metadata": {
      "needs_background": "light"
     },
     "output_type": "display_data"
    }
   ],
   "source": [
    "bar_4.plot(kind = 'bar', stacked = True)"
   ]
  },
  {
   "cell_type": "code",
   "execution_count": 28,
   "metadata": {},
   "outputs": [],
   "source": [
    "# spending habits of people with dependants\n",
    "\n",
    "bar_7 = df.groupby(['department_id', 'n_dependants'])['department_id'].count().unstack('n_dependants').fillna(0)"
   ]
  },
  {
   "cell_type": "code",
   "execution_count": 29,
   "metadata": {},
   "outputs": [
    {
     "data": {
      "text/plain": [
       "<matplotlib.axes._subplots.AxesSubplot at 0x7f9627c0cb90>"
      ]
     },
     "execution_count": 29,
     "metadata": {},
     "output_type": "execute_result"
    },
    {
     "data": {
      "image/png": "[encoded data removed]",
      "text/plain": [
       "<Figure size 432x288 with 1 Axes>"
      ]
     },
     "metadata": {
      "needs_background": "light"
     },
     "output_type": "display_data"
    }
   ],
   "source": [
    "bar_7.plot(kind = 'bar', stacked = True)"
   ]
  },
  {
   "cell_type": "code",
   "execution_count": 21,
   "metadata": {},
   "outputs": [
    {
     "data": {
      "image/png": "[encoded data removed]",
      "text/plain": [
       "<Figure size 432x288 with 1 Axes>"
      ]
     },
     "metadata": {
      "needs_background": "light"
     },
     "output_type": "display_data"
    }
   ],
   "source": [
    "# regions spending habits\n",
    "\n",
    "bar_5 = df['region'].value_counts('prices').plot.bar()"
   ]
  },
  {
   "cell_type": "code",
   "execution_count": 10,
   "metadata": {},
   "outputs": [],
   "source": [
    "# exporting file\n",
    "\n",
    "df.to_pickle(r'/Volumes/My Passport/orders_products_all')"
   ]
  },
  {
   "cell_type": "code",
   "execution_count": null,
   "metadata": {},
   "outputs": [],
   "source": []
  }
 ],
 "metadata": {
  "kernelspec": {
   "display_name": "Python 3",
   "language": "python",
   "name": "python3"
  },
  "language_info": {
   "codemirror_mode": {
    "name": "ipython",
    "version": 3
   },
   "file_extension": ".py",
   "mimetype": "text/x-python",
   "name": "python",
   "nbconvert_exporter": "python",
   "pygments_lexer": "ipython3",
   "version": "3.7.6"
  }
 },
 "nbformat": 4,
 "nbformat_minor": 4
}
